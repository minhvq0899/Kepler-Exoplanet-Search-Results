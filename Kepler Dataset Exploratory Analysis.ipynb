{
 "cells": [
  {
   "cell_type": "markdown",
   "metadata": {
    "_cell_guid": "f1eaa7a8-d7b5-429d-aeb5-0b5b1a50d24a",
    "_uuid": "82d76b905b7a79adfa0362ba6cde130a5c286092"
   },
   "source": [
    "# Exploratory data analysis of Kepler candidates dataset.\n",
    "\n",
    "https://en.wikipedia.org/wiki/Kepler_(spacecraft)"
   ]
  },
  {
   "cell_type": "code",
   "execution_count": 1,
   "metadata": {
    "_cell_guid": "0ca1fc2e-77a9-44f2-91fd-b711909f75b3",
    "_uuid": "7a795699065c4b852cd7de135716357536aa4b54"
   },
   "outputs": [],
   "source": [
    "import pandas as pd\n",
    "import matplotlib.pyplot as plt\n",
    "\n",
    "%matplotlib inline"
   ]
  },
  {
   "cell_type": "code",
   "execution_count": 2,
   "metadata": {
    "_cell_guid": "db42b9ea-359c-43ff-aebf-74df8ea08e92",
    "_uuid": "e9af091c211064d2dc28710db427650414fd83bd"
   },
   "outputs": [],
   "source": [
    "data = pd.read_csv(\"datasets/NASA/cumulative.csv\", sep=\",\")"
   ]
  },
  {
   "cell_type": "code",
   "execution_count": 3,
   "metadata": {
    "_cell_guid": "80fa0459-bf5c-4870-86fd-463472a730ff",
    "_uuid": "a0c297efe2c7ca5b8a42f17ed21273bba577f9ea",
    "scrolled": true
   },
   "outputs": [
    {
     "data": {
      "text/html": [
       "<div>\n",
       "<style scoped>\n",
       "    .dataframe tbody tr th:only-of-type {\n",
       "        vertical-align: middle;\n",
       "    }\n",
       "\n",
       "    .dataframe tbody tr th {\n",
       "        vertical-align: top;\n",
       "    }\n",
       "\n",
       "    .dataframe thead th {\n",
       "        text-align: right;\n",
       "    }\n",
       "</style>\n",
       "<table border=\"1\" class=\"dataframe\">\n",
       "  <thead>\n",
       "    <tr style=\"text-align: right;\">\n",
       "      <th></th>\n",
       "      <th>rowid</th>\n",
       "      <th>kepid</th>\n",
       "      <th>kepoi_name</th>\n",
       "      <th>kepler_name</th>\n",
       "      <th>koi_disposition</th>\n",
       "      <th>koi_pdisposition</th>\n",
       "      <th>koi_score</th>\n",
       "      <th>koi_fpflag_nt</th>\n",
       "      <th>koi_fpflag_ss</th>\n",
       "      <th>koi_fpflag_co</th>\n",
       "      <th>...</th>\n",
       "      <th>koi_steff_err2</th>\n",
       "      <th>koi_slogg</th>\n",
       "      <th>koi_slogg_err1</th>\n",
       "      <th>koi_slogg_err2</th>\n",
       "      <th>koi_srad</th>\n",
       "      <th>koi_srad_err1</th>\n",
       "      <th>koi_srad_err2</th>\n",
       "      <th>ra</th>\n",
       "      <th>dec</th>\n",
       "      <th>koi_kepmag</th>\n",
       "    </tr>\n",
       "  </thead>\n",
       "  <tbody>\n",
       "    <tr>\n",
       "      <th>0</th>\n",
       "      <td>1</td>\n",
       "      <td>10797460</td>\n",
       "      <td>K00752.01</td>\n",
       "      <td>Kepler-227 b</td>\n",
       "      <td>CONFIRMED</td>\n",
       "      <td>CANDIDATE</td>\n",
       "      <td>1.000</td>\n",
       "      <td>0</td>\n",
       "      <td>0</td>\n",
       "      <td>0</td>\n",
       "      <td>...</td>\n",
       "      <td>-81.0</td>\n",
       "      <td>4.467</td>\n",
       "      <td>0.064</td>\n",
       "      <td>-0.096</td>\n",
       "      <td>0.927</td>\n",
       "      <td>0.105</td>\n",
       "      <td>-0.061</td>\n",
       "      <td>291.93423</td>\n",
       "      <td>48.141651</td>\n",
       "      <td>15.347</td>\n",
       "    </tr>\n",
       "    <tr>\n",
       "      <th>1</th>\n",
       "      <td>2</td>\n",
       "      <td>10797460</td>\n",
       "      <td>K00752.02</td>\n",
       "      <td>Kepler-227 c</td>\n",
       "      <td>CONFIRMED</td>\n",
       "      <td>CANDIDATE</td>\n",
       "      <td>0.969</td>\n",
       "      <td>0</td>\n",
       "      <td>0</td>\n",
       "      <td>0</td>\n",
       "      <td>...</td>\n",
       "      <td>-81.0</td>\n",
       "      <td>4.467</td>\n",
       "      <td>0.064</td>\n",
       "      <td>-0.096</td>\n",
       "      <td>0.927</td>\n",
       "      <td>0.105</td>\n",
       "      <td>-0.061</td>\n",
       "      <td>291.93423</td>\n",
       "      <td>48.141651</td>\n",
       "      <td>15.347</td>\n",
       "    </tr>\n",
       "    <tr>\n",
       "      <th>2</th>\n",
       "      <td>3</td>\n",
       "      <td>10811496</td>\n",
       "      <td>K00753.01</td>\n",
       "      <td>NaN</td>\n",
       "      <td>FALSE POSITIVE</td>\n",
       "      <td>FALSE POSITIVE</td>\n",
       "      <td>0.000</td>\n",
       "      <td>0</td>\n",
       "      <td>1</td>\n",
       "      <td>0</td>\n",
       "      <td>...</td>\n",
       "      <td>-176.0</td>\n",
       "      <td>4.544</td>\n",
       "      <td>0.044</td>\n",
       "      <td>-0.176</td>\n",
       "      <td>0.868</td>\n",
       "      <td>0.233</td>\n",
       "      <td>-0.078</td>\n",
       "      <td>297.00482</td>\n",
       "      <td>48.134129</td>\n",
       "      <td>15.436</td>\n",
       "    </tr>\n",
       "    <tr>\n",
       "      <th>3</th>\n",
       "      <td>4</td>\n",
       "      <td>10848459</td>\n",
       "      <td>K00754.01</td>\n",
       "      <td>NaN</td>\n",
       "      <td>FALSE POSITIVE</td>\n",
       "      <td>FALSE POSITIVE</td>\n",
       "      <td>0.000</td>\n",
       "      <td>0</td>\n",
       "      <td>1</td>\n",
       "      <td>0</td>\n",
       "      <td>...</td>\n",
       "      <td>-174.0</td>\n",
       "      <td>4.564</td>\n",
       "      <td>0.053</td>\n",
       "      <td>-0.168</td>\n",
       "      <td>0.791</td>\n",
       "      <td>0.201</td>\n",
       "      <td>-0.067</td>\n",
       "      <td>285.53461</td>\n",
       "      <td>48.285210</td>\n",
       "      <td>15.597</td>\n",
       "    </tr>\n",
       "    <tr>\n",
       "      <th>4</th>\n",
       "      <td>5</td>\n",
       "      <td>10854555</td>\n",
       "      <td>K00755.01</td>\n",
       "      <td>Kepler-664 b</td>\n",
       "      <td>CONFIRMED</td>\n",
       "      <td>CANDIDATE</td>\n",
       "      <td>1.000</td>\n",
       "      <td>0</td>\n",
       "      <td>0</td>\n",
       "      <td>0</td>\n",
       "      <td>...</td>\n",
       "      <td>-211.0</td>\n",
       "      <td>4.438</td>\n",
       "      <td>0.070</td>\n",
       "      <td>-0.210</td>\n",
       "      <td>1.046</td>\n",
       "      <td>0.334</td>\n",
       "      <td>-0.133</td>\n",
       "      <td>288.75488</td>\n",
       "      <td>48.226200</td>\n",
       "      <td>15.509</td>\n",
       "    </tr>\n",
       "  </tbody>\n",
       "</table>\n",
       "<p>5 rows × 50 columns</p>\n",
       "</div>"
      ],
      "text/plain": [
       "   rowid     kepid kepoi_name   kepler_name koi_disposition koi_pdisposition  \\\n",
       "0      1  10797460  K00752.01  Kepler-227 b       CONFIRMED        CANDIDATE   \n",
       "1      2  10797460  K00752.02  Kepler-227 c       CONFIRMED        CANDIDATE   \n",
       "2      3  10811496  K00753.01           NaN  FALSE POSITIVE   FALSE POSITIVE   \n",
       "3      4  10848459  K00754.01           NaN  FALSE POSITIVE   FALSE POSITIVE   \n",
       "4      5  10854555  K00755.01  Kepler-664 b       CONFIRMED        CANDIDATE   \n",
       "\n",
       "   koi_score  koi_fpflag_nt  koi_fpflag_ss  koi_fpflag_co     ...      \\\n",
       "0      1.000              0              0              0     ...       \n",
       "1      0.969              0              0              0     ...       \n",
       "2      0.000              0              1              0     ...       \n",
       "3      0.000              0              1              0     ...       \n",
       "4      1.000              0              0              0     ...       \n",
       "\n",
       "   koi_steff_err2  koi_slogg  koi_slogg_err1  koi_slogg_err2  koi_srad  \\\n",
       "0           -81.0      4.467           0.064          -0.096     0.927   \n",
       "1           -81.0      4.467           0.064          -0.096     0.927   \n",
       "2          -176.0      4.544           0.044          -0.176     0.868   \n",
       "3          -174.0      4.564           0.053          -0.168     0.791   \n",
       "4          -211.0      4.438           0.070          -0.210     1.046   \n",
       "\n",
       "   koi_srad_err1  koi_srad_err2         ra        dec  koi_kepmag  \n",
       "0          0.105         -0.061  291.93423  48.141651      15.347  \n",
       "1          0.105         -0.061  291.93423  48.141651      15.347  \n",
       "2          0.233         -0.078  297.00482  48.134129      15.436  \n",
       "3          0.201         -0.067  285.53461  48.285210      15.597  \n",
       "4          0.334         -0.133  288.75488  48.226200      15.509  \n",
       "\n",
       "[5 rows x 50 columns]"
      ]
     },
     "execution_count": 3,
     "metadata": {},
     "output_type": "execute_result"
    }
   ],
   "source": [
    "data.head()"
   ]
  },
  {
   "cell_type": "code",
   "execution_count": 4,
   "metadata": {
    "_cell_guid": "3542d39b-4fd2-4059-bda8-cb3bbf9b45f3",
    "_uuid": "66b6f503a009c7de51c32792174cb83403497bad"
   },
   "outputs": [
    {
     "data": {
      "text/plain": [
       "Index(['rowid', 'kepid', 'kepoi_name', 'kepler_name', 'koi_disposition',\n",
       "       'koi_pdisposition', 'koi_score', 'koi_fpflag_nt', 'koi_fpflag_ss',\n",
       "       'koi_fpflag_co', 'koi_fpflag_ec', 'koi_period', 'koi_period_err1',\n",
       "       'koi_period_err2', 'koi_time0bk', 'koi_time0bk_err1',\n",
       "       'koi_time0bk_err2', 'koi_impact', 'koi_impact_err1', 'koi_impact_err2',\n",
       "       'koi_duration', 'koi_duration_err1', 'koi_duration_err2', 'koi_depth',\n",
       "       'koi_depth_err1', 'koi_depth_err2', 'koi_prad', 'koi_prad_err1',\n",
       "       'koi_prad_err2', 'koi_teq', 'koi_teq_err1', 'koi_teq_err2', 'koi_insol',\n",
       "       'koi_insol_err1', 'koi_insol_err2', 'koi_model_snr', 'koi_tce_plnt_num',\n",
       "       'koi_tce_delivname', 'koi_steff', 'koi_steff_err1', 'koi_steff_err2',\n",
       "       'koi_slogg', 'koi_slogg_err1', 'koi_slogg_err2', 'koi_srad',\n",
       "       'koi_srad_err1', 'koi_srad_err2', 'ra', 'dec', 'koi_kepmag'],\n",
       "      dtype='object')"
      ]
     },
     "execution_count": 4,
     "metadata": {},
     "output_type": "execute_result"
    }
   ],
   "source": [
    "data.columns"
   ]
  },
  {
   "cell_type": "markdown",
   "metadata": {
    "_cell_guid": "b223091c-c019-4558-b892-6b5681dccad7",
    "_uuid": "6072c8f0f749298964845775dbf097b1d5c9a19f"
   },
   "source": [
    "Description of the columns here: https://exoplanetarchive.ipac.caltech.edu/docs/API_kepcandidate_columns.html"
   ]
  },
  {
   "cell_type": "markdown",
   "metadata": {
    "_cell_guid": "06d64daf-49f1-4e3a-9781-8da2b173fee6",
    "_uuid": "68b9562f569dfe7e1968c10ab83b9f8fcb7a244c"
   },
   "source": [
    "## Let's look at some figures\n",
    "\n",
    "### Magnitude \n",
    "See https://en.wikipedia.org/wiki/Magnitude_(astronomy)#Apparent_and_absolute_magnitude\n"
   ]
  },
  {
   "cell_type": "code",
   "execution_count": 5,
   "metadata": {
    "_cell_guid": "6cf229d7-60f4-43a4-879a-2a4735cfc45c",
    "_uuid": "3d86930a009a40872595269848703e47d6d62e36",
    "scrolled": false
   },
   "outputs": [
    {
     "data": {
      "text/plain": [
       "Text(0.5, 1.0, 'All targets')"
      ]
     },
     "execution_count": 5,
     "metadata": {},
     "output_type": "execute_result"
    },
    {
     "data": {
      "image/png": "[encoded data removed]",
      "text/plain": [
       "<Figure size 864x576 with 1 Axes>"
      ]
     },
     "metadata": {
      "needs_background": "light"
     },
     "output_type": "display_data"
    }
   ],
   "source": [
    "ax = data.koi_kepmag.hist(bins=100, figsize=(12, 8))\n",
    "ax.set_xlabel(\"Magnitude (lower is brighter)\")\n",
    "ax.set_title(\"All targets\")"
   ]
  },
  {
   "cell_type": "markdown",
   "metadata": {
    "_cell_guid": "477e3942-b922-48b4-807d-70e961c30292",
    "_uuid": "50e57fdd4d3a5081920c92d6f82dcd539b5109c6"
   },
   "source": [
    "We see what looks like a bi-modal distribution and a sharp cut-off at around 16th magnitude. This is likely the limit at which the noise becomes too much to detect planetary candidates."
   ]
  },
  {
   "cell_type": "code",
   "execution_count": 6,
   "metadata": {
    "_cell_guid": "fb62a035-6b4a-4168-b0bc-6dcabff79fd0",
    "_uuid": "7d175a638dd84ab89ddbb6f20f6aaeadf6bba65b",
    "scrolled": false
   },
   "outputs": [
    {
     "data": {
      "text/plain": [
       "Text(0.5, 1.0, 'Confirmed planet')"
      ]
     },
     "execution_count": 6,
     "metadata": {},
     "output_type": "execute_result"
    },
    {
     "data": {
      "image/png": "[encoded data removed]",
      "text/plain": [
       "<Figure size 864x576 with 1 Axes>"
      ]
     },
     "metadata": {
      "needs_background": "light"
     },
     "output_type": "display_data"
    }
   ],
   "source": [
    "# only the Confirmed planets\n",
    "ax = data[data.koi_disposition == 'CONFIRMED'].koi_kepmag.hist(bins=100, figsize=(12, 8))\n",
    "ax.set_xlabel(\"Magnitude (lower is brighter)\")\n",
    "ax.set_title(\"Confirmed planet\")"
   ]
  },
  {
   "cell_type": "markdown",
   "metadata": {
    "_cell_guid": "3de0f3fe-c17b-411e-b0a6-0ae0fba11814",
    "_uuid": "52b82e758386ce7a2f1f49fb9c541975d1ef3ea8"
   },
   "source": [
    "### Surface gravity of stars\n",
    "\n",
    "https://en.wikipedia.org/wiki/Surface_gravity"
   ]
  },
  {
   "cell_type": "code",
   "execution_count": 7,
   "metadata": {
    "_cell_guid": "dd1c64e0-9edd-4e92-9f99-b446a9966fd5",
    "_uuid": "b36b20ec443820cb75e163aee636c75498428655"
   },
   "outputs": [
    {
     "data": {
      "text/plain": [
       "Text(0.5, 1.0, 'Surface gravity')"
      ]
     },
     "execution_count": 7,
     "metadata": {},
     "output_type": "execute_result"
    },
    {
     "data": {
      "image/png": "[encoded data removed]",
      "text/plain": [
       "<Figure size 864x576 with 1 Axes>"
      ]
     },
     "metadata": {
      "needs_background": "light"
     },
     "output_type": "display_data"
    }
   ],
   "source": [
    "ax = data.koi_slogg.hist(bins=100, figsize=(12, 8))\n",
    "ax.set_xlabel(\"$\\log{g}$\")\n",
    "ax.set_title(\"Surface gravity\")"
   ]
  },
  {
   "cell_type": "markdown",
   "metadata": {
    "_cell_guid": "4bf3adfa-799e-49ac-b8b4-20bcf8a6f9f1",
    "_uuid": "93330e71f164b149cebe75114a9a31c8b31870ef"
   },
   "source": [
    "### Right Ascension and Declination\n",
    "\n",
    "https://en.wikipedia.org/wiki/Celestial_coordinate_system\n",
    "\n",
    "This is the 'latitude' and 'longitude' of the objects, so this plot shows their position in the sky (its a pretty small patch in the sky, don't be fooled.) The telescope pointed at the same patch of sky for the entire mission and the distribution looks the way it does because of it. \n",
    "\n",
    "![Here's an image from the CCD array](https://keplerscience.arc.nasa.gov/images/kepler-fov-full.jpg)\n",
    "\n",
    "The density of stars increases towards the one side, that's the side closer to the bulge of the Milky Way."
   ]
  },
  {
   "cell_type": "code",
   "execution_count": 8,
   "metadata": {
    "_cell_guid": "85e64421-c4fe-4996-8487-5fbb35b7b8da",
    "_uuid": "b618e1bf516e70f19245f7c9444704adc8d4939d"
   },
   "outputs": [],
   "source": [
    "confirmed = data[data.koi_disposition == 'CONFIRMED']\n",
    "\n",
    "ra, dec = data.ra, data.dec\n",
    "ra_c, dec_c = confirmed.ra, confirmed.dec"
   ]
  },
  {
   "cell_type": "code",
   "execution_count": 9,
   "metadata": {
    "_cell_guid": "17d324aa-271e-436d-9e33-130dfe733b32",
    "_uuid": "67cabd3bdd15b0d279352b042d0b26ab02648db6",
    "scrolled": false
   },
   "outputs": [
    {
     "data": {
      "text/plain": [
       "<matplotlib.legend.Legend at 0x1d18e53a4a8>"
      ]
     },
     "execution_count": 9,
     "metadata": {},
     "output_type": "execute_result"
    },
    {
     "data": {
      "image/png": "[encoded data removed]",
      "text/plain": [
       "<Figure size 864x864 with 1 Axes>"
      ]
     },
     "metadata": {
      "needs_background": "light"
     },
     "output_type": "display_data"
    }
   ],
   "source": [
    "fig = plt.figure(figsize=(12, 12))\n",
    "\n",
    "plt.scatter(ra, dec, s=3, label='Candidates')\n",
    "plt.scatter(ra_c, dec_c, s=3, label=\"Confirmed\")\n",
    "\n",
    "plt.xlabel(\"Right Ascension\")\n",
    "plt.ylabel(\"Declination\")\n",
    "\n",
    "plt.legend()"
   ]
  },
  {
   "cell_type": "markdown",
   "metadata": {
    "_cell_guid": "7903ef7a-35a1-40d6-8938-858e946878dc",
    "_uuid": "a33cab8bfff11d4d488761839c902114bc85cbac"
   },
   "source": [
    "### Orbital periods of confirmed planets\n",
    "\n",
    "https://en.wikipedia.org/wiki/Orbital_period"
   ]
  },
  {
   "cell_type": "code",
   "execution_count": 10,
   "metadata": {
    "_cell_guid": "619a31f6-ec00-4688-b98a-5c0cea94ac81",
    "_uuid": "187912ae072d92af59349fe7f34f196346cd78cb"
   },
   "outputs": [
    {
     "data": {
      "text/plain": [
       "Text(0.5, 0, 'Orbital Period (days)')"
      ]
     },
     "execution_count": 10,
     "metadata": {},
     "output_type": "execute_result"
    },
    {
     "data": {
      "image/png": "[encoded data removed]",
      "text/plain": [
       "<Figure size 864x576 with 1 Axes>"
      ]
     },
     "metadata": {
      "needs_background": "light"
     },
     "output_type": "display_data"
    }
   ],
   "source": [
    "ax = confirmed.koi_period.hist(bins=100, figsize=(12, 8))\n",
    "ax.set_xlabel(\"Orbital Period (days)\")"
   ]
  },
  {
   "cell_type": "markdown",
   "metadata": {
    "_cell_guid": "d17ffd19-c39f-4e12-8fd8-2e2f73006cfc",
    "_uuid": "47c23b906d07c45ccee91fb4d59c5bb29a611dac"
   },
   "source": [
    "Most confirmed planets have lower orbital periods. This makes sense, the closer the planet is to its parent star, the more likely it is to eclipse it (and hence the more likely it is to be observed.)"
   ]
  },
  {
   "cell_type": "markdown",
   "metadata": {
    "_cell_guid": "f626e2b0-4068-482d-bc26-4b5d2afa0c44",
    "_uuid": "a7d2c6411689c4ea77ff3d5de275612c4190cd27"
   },
   "source": [
    "### Duration of planetary transits"
   ]
  },
  {
   "cell_type": "code",
   "execution_count": 11,
   "metadata": {
    "_cell_guid": "b6ef234e-f0d1-4cee-ae06-fcf125866b79",
    "_uuid": "e8399388e1b8a7ff53ebd66647a3c84485f1ac80"
   },
   "outputs": [
    {
     "data": {
      "text/plain": [
       "Text(0.5, 0, 'Duration of transit (hours)')"
      ]
     },
     "execution_count": 11,
     "metadata": {},
     "output_type": "execute_result"
    },
    {
     "data": {
      "image/png": "[encoded data removed]",
      "text/plain": [
       "<Figure size 864x576 with 1 Axes>"
      ]
     },
     "metadata": {
      "needs_background": "light"
     },
     "output_type": "display_data"
    }
   ],
   "source": [
    "ax = confirmed.koi_duration.hist(bins=100, figsize=(12, 8))\n",
    "ax.set_xlabel(\"Duration of transit (hours)\")"
   ]
  },
  {
   "cell_type": "markdown",
   "metadata": {
    "_cell_guid": "0fcc5faa-844b-49fe-8505-c2fa2cc7c889",
    "_uuid": "1134587257ea2f08873b15c307cc3812da0beaa8"
   },
   "source": [
    "Durations are on the order of hours, with more detections at smaller hours, again showing the detection bias towards smaller orbits."
   ]
  },
  {
   "cell_type": "markdown",
   "metadata": {
    "_cell_guid": "623311ac-e533-4edd-8499-4bc6a23fa5ac",
    "_uuid": "82d3a5caf1ce240904e5095a90b4ffc1572646fe"
   },
   "source": [
    "### Temperatures and Radii of stars and planets\n",
    "\n",
    "https://en.wikipedia.org/wiki/Effective_temperature\n",
    "\n",
    "https://en.wikipedia.org/wiki/Solar_radius"
   ]
  },
  {
   "cell_type": "code",
   "execution_count": 12,
   "metadata": {
    "_cell_guid": "bf4339fe-738e-4cad-9a85-2b91288c1ced",
    "_uuid": "66bc3e1ad578966aaad238f64a1b0ee0128b63e2",
    "scrolled": false
   },
   "outputs": [
    {
     "data": {
      "text/plain": [
       "<matplotlib.legend.Legend at 0x1d18e53acc0>"
      ]
     },
     "execution_count": 12,
     "metadata": {},
     "output_type": "execute_result"
    },
    {
     "data": {
      "image/png": "[encoded data removed]",
      "text/plain": [
       "<Figure size 864x576 with 1 Axes>"
      ]
     },
     "metadata": {
      "needs_background": "light"
     },
     "output_type": "display_data"
    }
   ],
   "source": [
    "ax = data.koi_steff.hist(bins=100, figsize=(12, 8), label=\"Star\")\n",
    "ax.set_xlabel(\"T$_{eff}$ K\")\n",
    "ax.set_title(\"Effective temperatures of stars and planets.\")\n",
    "\n",
    "data.koi_teq.hist(ax=ax, bins=100, label='Planet')\n",
    "ax.legend()"
   ]
  },
  {
   "cell_type": "code",
   "execution_count": 14,
   "metadata": {
    "_cell_guid": "6e619529-9e86-433b-ba2a-63bc84c6ab2f",
    "_uuid": "f48b0bde375a2b2015aee367c7fecfd4dacfe1b2",
    "scrolled": false
   },
   "outputs": [
    {
     "data": {
      "text/plain": [
       "<matplotlib.legend.Legend at 0x1d1902f8b70>"
      ]
     },
     "execution_count": 14,
     "metadata": {},
     "output_type": "execute_result"
    },
    {
     "data": {
      "image/png": "[encoded data removed]",
      "text/plain": [
       "<Figure size 864x576 with 1 Axes>"
      ]
     },
     "metadata": {
      "needs_background": "light"
     },
     "output_type": "display_data"
    }
   ],
   "source": [
    "# radius only for stars with a confirmed planet, the rest is not known.\n",
    "ax = confirmed.koi_prad.hist(bins=100, label='Planet (earth radii)')\n",
    "ax.set_title(\"Radii of stars and planets\")\n",
    "\n",
    "confirmed.koi_srad.hist(ax=ax, bins=100, figsize=(12, 8), label=\"Star (solar radii)\")\n",
    "ax.set_xlabel(\"Radius\")\n",
    "ax.legend()\n"
   ]
  },
  {
   "cell_type": "markdown",
   "metadata": {},
   "source": [
    "#### End of reference notebook, from here is my work"
   ]
  },
  {
   "cell_type": "markdown",
   "metadata": {},
   "source": [
    "### koi_disposition exploration:"
   ]
  },
  {
   "cell_type": "code",
   "execution_count": 17,
   "metadata": {},
   "outputs": [
    {
     "data": {
      "text/plain": [
       "{'CANDIDATE': 2248, 'CONFIRMED': 2293, 'FALSE POSITIVE': 5023}"
      ]
     },
     "execution_count": 17,
     "metadata": {},
     "output_type": "execute_result"
    }
   ],
   "source": [
    "import numpy as np\n",
    "\n",
    "unique, counts = np.unique(data.koi_disposition, return_counts=True)\n",
    "dict(zip(unique, counts))"
   ]
  },
  {
   "cell_type": "markdown",
   "metadata": {},
   "source": [
    "Yes there are only 3 values"
   ]
  },
  {
   "cell_type": "markdown",
   "metadata": {},
   "source": [
    "### Split train/test data"
   ]
  },
  {
   "cell_type": "markdown",
   "metadata": {},
   "source": [
    "We want train and test data have roughly the same percentage of different values of koi_disposition, so let's do the same thing as in lab 1"
   ]
  },
  {
   "cell_type": "code",
   "execution_count": 239,
   "metadata": {},
   "outputs": [
    {
     "data": {
      "text/plain": [
       "(9564, 50)"
      ]
     },
     "execution_count": 239,
     "metadata": {},
     "output_type": "execute_result"
    }
   ],
   "source": [
    "data.shape"
   ]
  },
  {
   "cell_type": "code",
   "execution_count": 240,
   "metadata": {},
   "outputs": [],
   "source": [
    "from sklearn.model_selection import StratifiedShuffleSplit\n",
    "\n",
    "split = StratifiedShuffleSplit(n_splits=1, test_size=0.15, random_state=42)\n",
    "for train_index, test_index in split.split(data, data[\"koi_disposition\"]):\n",
    "    strat_train_set = data.loc[train_index]\n",
    "    strat_test_set = data.loc[test_index]"
   ]
  },
  {
   "cell_type": "code",
   "execution_count": 241,
   "metadata": {},
   "outputs": [
    {
     "data": {
      "text/plain": [
       "((8129, 50), (1435, 50))"
      ]
     },
     "execution_count": 241,
     "metadata": {},
     "output_type": "execute_result"
    }
   ],
   "source": [
    "shape = (strat_train_set.shape, strat_test_set.shape)\n",
    "shape"
   ]
  },
  {
   "cell_type": "code",
   "execution_count": 242,
   "metadata": {},
   "outputs": [
    {
     "data": {
      "text/plain": [
       "FALSE POSITIVE    0.525436\n",
       "CONFIRMED         0.239721\n",
       "CANDIDATE         0.234843\n",
       "Name: koi_disposition, dtype: float64"
      ]
     },
     "execution_count": 242,
     "metadata": {},
     "output_type": "execute_result"
    }
   ],
   "source": [
    "strat_test_set[\"koi_disposition\"].value_counts() / len(strat_test_set)"
   ]
  },
  {
   "cell_type": "code",
   "execution_count": 243,
   "metadata": {},
   "outputs": [
    {
     "data": {
      "text/plain": [
       "FALSE POSITIVE    0.525157\n",
       "CONFIRMED         0.239759\n",
       "CANDIDATE         0.235084\n",
       "Name: koi_disposition, dtype: float64"
      ]
     },
     "execution_count": 243,
     "metadata": {},
     "output_type": "execute_result"
    }
   ],
   "source": [
    "strat_train_set[\"koi_disposition\"].value_counts() / len(strat_train_set)"
   ]
  },
  {
   "cell_type": "markdown",
   "metadata": {},
   "source": [
    "## Data preparation"
   ]
  },
  {
   "cell_type": "code",
   "execution_count": 244,
   "metadata": {},
   "outputs": [
    {
     "data": {
      "text/plain": [
       "['koi_period_err1',\n",
       " 'koi_period_err2',\n",
       " 'koi_time0bk_err1',\n",
       " 'koi_time0bk_err2',\n",
       " 'koi_impact_err1',\n",
       " 'koi_impact_err2',\n",
       " 'koi_duration_err1',\n",
       " 'koi_duration_err2',\n",
       " 'koi_depth_err1',\n",
       " 'koi_depth_err2',\n",
       " 'koi_prad_err1',\n",
       " 'koi_prad_err2',\n",
       " 'koi_teq_err1',\n",
       " 'koi_teq_err2',\n",
       " 'koi_insol_err1',\n",
       " 'koi_insol_err2',\n",
       " 'koi_steff_err1',\n",
       " 'koi_steff_err2',\n",
       " 'koi_slogg_err1',\n",
       " 'koi_slogg_err2',\n",
       " 'koi_srad_err1',\n",
       " 'koi_srad_err2']"
      ]
     },
     "execution_count": 244,
     "metadata": {},
     "output_type": "execute_result"
    }
   ],
   "source": [
    "drop_cols = [c for c in strat_train_set.columns if c.lower()[-4:-1] == 'err']\n",
    "drop_cols"
   ]
  },
  {
   "cell_type": "code",
   "execution_count": 245,
   "metadata": {},
   "outputs": [
    {
     "data": {
      "text/plain": [
       "(8129, 28)"
      ]
     },
     "execution_count": 245,
     "metadata": {},
     "output_type": "execute_result"
    }
   ],
   "source": [
    "strat_train_set = strat_train_set.drop(columns=drop_cols)\n",
    "strat_train_set.shape"
   ]
  },
  {
   "cell_type": "markdown",
   "metadata": {},
   "source": [
    "**drop all the error columns**"
   ]
  },
  {
   "cell_type": "code",
   "execution_count": 246,
   "metadata": {},
   "outputs": [
    {
     "data": {
      "text/plain": [
       "(8129, 23)"
      ]
     },
     "execution_count": 246,
     "metadata": {},
     "output_type": "execute_result"
    }
   ],
   "source": [
    "strat_train_set = strat_train_set.drop(columns=['koi_score', 'rowid', 'kepid', 'kepoi_name', 'koi_pdisposition'])\n",
    "strat_train_set.shape"
   ]
  },
  {
   "cell_type": "code",
   "execution_count": 247,
   "metadata": {},
   "outputs": [
    {
     "data": {
      "text/plain": [
       "Index(['kepler_name', 'koi_disposition', 'koi_fpflag_nt', 'koi_fpflag_ss',\n",
       "       'koi_fpflag_co', 'koi_fpflag_ec', 'koi_period', 'koi_time0bk',\n",
       "       'koi_impact', 'koi_duration', 'koi_depth', 'koi_prad', 'koi_teq',\n",
       "       'koi_insol', 'koi_model_snr', 'koi_tce_plnt_num', 'koi_tce_delivname',\n",
       "       'koi_steff', 'koi_slogg', 'koi_srad', 'ra', 'dec', 'koi_kepmag'],\n",
       "      dtype='object')"
      ]
     },
     "execution_count": 247,
     "metadata": {},
     "output_type": "execute_result"
    }
   ],
   "source": [
    "strat_train_set.columns"
   ]
  },
  {
   "cell_type": "code",
   "execution_count": 248,
   "metadata": {},
   "outputs": [
    {
     "data": {
      "text/html": [
       "<div>\n",
       "<style scoped>\n",
       "    .dataframe tbody tr th:only-of-type {\n",
       "        vertical-align: middle;\n",
       "    }\n",
       "\n",
       "    .dataframe tbody tr th {\n",
       "        vertical-align: top;\n",
       "    }\n",
       "\n",
       "    .dataframe thead th {\n",
       "        text-align: right;\n",
       "    }\n",
       "</style>\n",
       "<table border=\"1\" class=\"dataframe\">\n",
       "  <thead>\n",
       "    <tr style=\"text-align: right;\">\n",
       "      <th></th>\n",
       "      <th>kepler_name</th>\n",
       "      <th>koi_disposition</th>\n",
       "      <th>koi_fpflag_nt</th>\n",
       "      <th>koi_fpflag_ss</th>\n",
       "      <th>koi_fpflag_co</th>\n",
       "      <th>koi_fpflag_ec</th>\n",
       "      <th>koi_period</th>\n",
       "      <th>koi_time0bk</th>\n",
       "      <th>koi_impact</th>\n",
       "      <th>koi_duration</th>\n",
       "      <th>...</th>\n",
       "      <th>koi_insol</th>\n",
       "      <th>koi_model_snr</th>\n",
       "      <th>koi_tce_plnt_num</th>\n",
       "      <th>koi_tce_delivname</th>\n",
       "      <th>koi_steff</th>\n",
       "      <th>koi_slogg</th>\n",
       "      <th>koi_srad</th>\n",
       "      <th>ra</th>\n",
       "      <th>dec</th>\n",
       "      <th>koi_kepmag</th>\n",
       "    </tr>\n",
       "  </thead>\n",
       "  <tbody>\n",
       "    <tr>\n",
       "      <th>2292</th>\n",
       "      <td>Kepler-446 b</td>\n",
       "      <td>CONFIRMED</td>\n",
       "      <td>0</td>\n",
       "      <td>0</td>\n",
       "      <td>0</td>\n",
       "      <td>0</td>\n",
       "      <td>1.565413</td>\n",
       "      <td>132.912810</td>\n",
       "      <td>0.003</td>\n",
       "      <td>0.7572</td>\n",
       "      <td>...</td>\n",
       "      <td>41.85</td>\n",
       "      <td>48.6</td>\n",
       "      <td>1.0</td>\n",
       "      <td>q1_q17_dr25_tce</td>\n",
       "      <td>3464.0</td>\n",
       "      <td>4.923</td>\n",
       "      <td>0.328</td>\n",
       "      <td>282.25021</td>\n",
       "      <td>44.921108</td>\n",
       "      <td>16.257</td>\n",
       "    </tr>\n",
       "    <tr>\n",
       "      <th>5286</th>\n",
       "      <td>NaN</td>\n",
       "      <td>FALSE POSITIVE</td>\n",
       "      <td>0</td>\n",
       "      <td>1</td>\n",
       "      <td>1</td>\n",
       "      <td>1</td>\n",
       "      <td>2.178155</td>\n",
       "      <td>132.024330</td>\n",
       "      <td>1.223</td>\n",
       "      <td>3.5302</td>\n",
       "      <td>...</td>\n",
       "      <td>457.16</td>\n",
       "      <td>89.2</td>\n",
       "      <td>1.0</td>\n",
       "      <td>q1_q17_dr25_tce</td>\n",
       "      <td>5515.0</td>\n",
       "      <td>4.624</td>\n",
       "      <td>0.712</td>\n",
       "      <td>288.00998</td>\n",
       "      <td>46.306061</td>\n",
       "      <td>14.489</td>\n",
       "    </tr>\n",
       "    <tr>\n",
       "      <th>2883</th>\n",
       "      <td>Kepler-510 b</td>\n",
       "      <td>CONFIRMED</td>\n",
       "      <td>0</td>\n",
       "      <td>0</td>\n",
       "      <td>0</td>\n",
       "      <td>0</td>\n",
       "      <td>19.556620</td>\n",
       "      <td>189.043540</td>\n",
       "      <td>0.606</td>\n",
       "      <td>8.0870</td>\n",
       "      <td>...</td>\n",
       "      <td>95.35</td>\n",
       "      <td>111.0</td>\n",
       "      <td>1.0</td>\n",
       "      <td>q1_q17_dr25_tce</td>\n",
       "      <td>5671.0</td>\n",
       "      <td>4.094</td>\n",
       "      <td>1.360</td>\n",
       "      <td>287.65500</td>\n",
       "      <td>39.244289</td>\n",
       "      <td>11.947</td>\n",
       "    </tr>\n",
       "    <tr>\n",
       "      <th>9450</th>\n",
       "      <td>NaN</td>\n",
       "      <td>CANDIDATE</td>\n",
       "      <td>0</td>\n",
       "      <td>0</td>\n",
       "      <td>0</td>\n",
       "      <td>0</td>\n",
       "      <td>0.805942</td>\n",
       "      <td>132.127874</td>\n",
       "      <td>1.339</td>\n",
       "      <td>1.4432</td>\n",
       "      <td>...</td>\n",
       "      <td>1189.65</td>\n",
       "      <td>55.4</td>\n",
       "      <td>1.0</td>\n",
       "      <td>q1_q17_dr25_tce</td>\n",
       "      <td>5022.0</td>\n",
       "      <td>4.597</td>\n",
       "      <td>0.672</td>\n",
       "      <td>291.55447</td>\n",
       "      <td>51.043201</td>\n",
       "      <td>14.169</td>\n",
       "    </tr>\n",
       "    <tr>\n",
       "      <th>1212</th>\n",
       "      <td>NaN</td>\n",
       "      <td>FALSE POSITIVE</td>\n",
       "      <td>0</td>\n",
       "      <td>1</td>\n",
       "      <td>0</td>\n",
       "      <td>0</td>\n",
       "      <td>9.771463</td>\n",
       "      <td>135.584899</td>\n",
       "      <td>0.946</td>\n",
       "      <td>1.7670</td>\n",
       "      <td>...</td>\n",
       "      <td>96.39</td>\n",
       "      <td>215.0</td>\n",
       "      <td>1.0</td>\n",
       "      <td>q1_q17_dr25_tce</td>\n",
       "      <td>5812.0</td>\n",
       "      <td>4.551</td>\n",
       "      <td>0.853</td>\n",
       "      <td>286.14938</td>\n",
       "      <td>49.867512</td>\n",
       "      <td>14.245</td>\n",
       "    </tr>\n",
       "  </tbody>\n",
       "</table>\n",
       "<p>5 rows × 23 columns</p>\n",
       "</div>"
      ],
      "text/plain": [
       "       kepler_name koi_disposition  koi_fpflag_nt  koi_fpflag_ss  \\\n",
       "2292  Kepler-446 b       CONFIRMED              0              0   \n",
       "5286           NaN  FALSE POSITIVE              0              1   \n",
       "2883  Kepler-510 b       CONFIRMED              0              0   \n",
       "9450           NaN       CANDIDATE              0              0   \n",
       "1212           NaN  FALSE POSITIVE              0              1   \n",
       "\n",
       "      koi_fpflag_co  koi_fpflag_ec  koi_period  koi_time0bk  koi_impact  \\\n",
       "2292              0              0    1.565413   132.912810       0.003   \n",
       "5286              1              1    2.178155   132.024330       1.223   \n",
       "2883              0              0   19.556620   189.043540       0.606   \n",
       "9450              0              0    0.805942   132.127874       1.339   \n",
       "1212              0              0    9.771463   135.584899       0.946   \n",
       "\n",
       "      koi_duration     ...      koi_insol  koi_model_snr  koi_tce_plnt_num  \\\n",
       "2292        0.7572     ...          41.85           48.6               1.0   \n",
       "5286        3.5302     ...         457.16           89.2               1.0   \n",
       "2883        8.0870     ...          95.35          111.0               1.0   \n",
       "9450        1.4432     ...        1189.65           55.4               1.0   \n",
       "1212        1.7670     ...          96.39          215.0               1.0   \n",
       "\n",
       "      koi_tce_delivname  koi_steff  koi_slogg koi_srad         ra        dec  \\\n",
       "2292    q1_q17_dr25_tce     3464.0      4.923    0.328  282.25021  44.921108   \n",
       "5286    q1_q17_dr25_tce     5515.0      4.624    0.712  288.00998  46.306061   \n",
       "2883    q1_q17_dr25_tce     5671.0      4.094    1.360  287.65500  39.244289   \n",
       "9450    q1_q17_dr25_tce     5022.0      4.597    0.672  291.55447  51.043201   \n",
       "1212    q1_q17_dr25_tce     5812.0      4.551    0.853  286.14938  49.867512   \n",
       "\n",
       "      koi_kepmag  \n",
       "2292      16.257  \n",
       "5286      14.489  \n",
       "2883      11.947  \n",
       "9450      14.169  \n",
       "1212      14.245  \n",
       "\n",
       "[5 rows x 23 columns]"
      ]
     },
     "execution_count": 248,
     "metadata": {},
     "output_type": "execute_result"
    }
   ],
   "source": [
    "strat_train_set.head()"
   ]
  },
  {
   "cell_type": "markdown",
   "metadata": {},
   "source": [
    "We also don't need kepler_name"
   ]
  },
  {
   "cell_type": "code",
   "execution_count": 249,
   "metadata": {},
   "outputs": [
    {
     "data": {
      "text/plain": [
       "(8129, 21)"
      ]
     },
     "execution_count": 249,
     "metadata": {},
     "output_type": "execute_result"
    }
   ],
   "source": [
    "strat_train_set = strat_train_set.drop(columns=['kepler_name', 'koi_tce_delivname'])\n",
    "strat_train_set.shape"
   ]
  },
  {
   "cell_type": "code",
   "execution_count": 250,
   "metadata": {},
   "outputs": [
    {
     "data": {
      "text/plain": [
       "(1435, 21)"
      ]
     },
     "execution_count": 250,
     "metadata": {},
     "output_type": "execute_result"
    }
   ],
   "source": [
    "columns_keep = ['koi_disposition', 'koi_fpflag_nt', 'koi_fpflag_ss',\n",
    "       'koi_fpflag_co', 'koi_fpflag_ec', 'koi_period', 'koi_time0bk',\n",
    "       'koi_impact', 'koi_duration', 'koi_depth', 'koi_prad', 'koi_teq',\n",
    "       'koi_insol', 'koi_model_snr', 'koi_tce_plnt_num',\n",
    "       'koi_steff', 'koi_slogg', 'koi_srad', 'ra', 'dec', 'koi_kepmag']\n",
    "\n",
    "strat_test_set = strat_test_set.filter(items=columns_keep)\n",
    "strat_test_set.shape"
   ]
  },
  {
   "cell_type": "markdown",
   "metadata": {},
   "source": [
    "### Missing values"
   ]
  },
  {
   "cell_type": "code",
   "execution_count": 251,
   "metadata": {},
   "outputs": [
    {
     "data": {
      "text/plain": [
       "koi_disposition       0\n",
       "koi_fpflag_nt         0\n",
       "koi_fpflag_ss         0\n",
       "koi_fpflag_co         0\n",
       "koi_fpflag_ec         0\n",
       "koi_period            0\n",
       "koi_time0bk           0\n",
       "koi_impact          310\n",
       "koi_duration          0\n",
       "koi_depth           310\n",
       "koi_prad            310\n",
       "koi_teq             310\n",
       "koi_insol           275\n",
       "koi_model_snr       310\n",
       "koi_tce_plnt_num    305\n",
       "koi_steff           310\n",
       "koi_slogg           310\n",
       "koi_srad            310\n",
       "ra                    0\n",
       "dec                   0\n",
       "koi_kepmag            1\n",
       "dtype: int64"
      ]
     },
     "execution_count": 251,
     "metadata": {},
     "output_type": "execute_result"
    }
   ],
   "source": [
    "strat_train_set.isnull().sum()"
   ]
  },
  {
   "cell_type": "markdown",
   "metadata": {},
   "source": [
    "**Ok so it seems like most of our missing values comme from a same batch of observations. So I will go ahead and just get rid of any obs with missing values because I think it's ok to sacrifice around 400 obs**"
   ]
  },
  {
   "cell_type": "code",
   "execution_count": 252,
   "metadata": {},
   "outputs": [
    {
     "data": {
      "text/plain": [
       "((7594, 21), (1351, 21))"
      ]
     },
     "execution_count": 252,
     "metadata": {},
     "output_type": "execute_result"
    }
   ],
   "source": [
    "strat_train_set.dropna(inplace=True)\n",
    "strat_test_set.dropna(inplace=True)\n",
    "(strat_train_set.shape, strat_test_set.shape)"
   ]
  },
  {
   "cell_type": "markdown",
   "metadata": {},
   "source": [
    "Ok great only more than 600 obs"
   ]
  },
  {
   "cell_type": "markdown",
   "metadata": {},
   "source": [
    "I want to try out some feature scaling but I'm not that all confident so let's have a back up dataset"
   ]
  },
  {
   "cell_type": "code",
   "execution_count": 253,
   "metadata": {},
   "outputs": [
    {
     "data": {
      "text/plain": [
       "(7594, 21)"
      ]
     },
     "execution_count": 253,
     "metadata": {},
     "output_type": "execute_result"
    }
   ],
   "source": [
    "back_up_train = strat_train_set\n",
    "back_up_train.shape"
   ]
  },
  {
   "cell_type": "markdown",
   "metadata": {},
   "source": [
    "## Build Machine Learning Models"
   ]
  },
  {
   "cell_type": "markdown",
   "metadata": {},
   "source": [
    "### Feature Scaling "
   ]
  },
  {
   "cell_type": "code",
   "execution_count": 254,
   "metadata": {},
   "outputs": [
    {
     "data": {
      "text/plain": [
       "((7594,), (7594, 20))"
      ]
     },
     "execution_count": 254,
     "metadata": {},
     "output_type": "execute_result"
    }
   ],
   "source": [
    "back_up_train['koi_disposition'] = np.where(back_up_train['koi_disposition'] == 'CONFIRMED', 1, 0)\n",
    "strat_test_set['koi_disposition'] = np.where(strat_test_set['koi_disposition'] == 'CONFIRMED', 1, 0)\n",
    "y_train = back_up_train['koi_disposition']\n",
    "y_test = strat_test_set['koi_disposition']\n",
    "back_up_train = back_up_train.drop(columns = 'koi_disposition')\n",
    "strat_test_set = strat_test_set.drop(columns = 'koi_disposition')\n",
    "y_train.shape, back_up_train.shape"
   ]
  },
  {
   "cell_type": "code",
   "execution_count": 255,
   "metadata": {},
   "outputs": [
    {
     "data": {
      "text/plain": [
       "2292    1\n",
       "5286    0\n",
       "2883    1\n",
       "9450    0\n",
       "1212    0\n",
       "Name: koi_disposition, dtype: int32"
      ]
     },
     "execution_count": 255,
     "metadata": {},
     "output_type": "execute_result"
    }
   ],
   "source": [
    "y_train.head()"
   ]
  },
  {
   "cell_type": "code",
   "execution_count": 257,
   "metadata": {},
   "outputs": [
    {
     "data": {
      "text/plain": [
       "{0: 5652, 1: 1942}"
      ]
     },
     "execution_count": 257,
     "metadata": {},
     "output_type": "execute_result"
    }
   ],
   "source": [
    "unique, counts = np.unique(y_train, return_counts=True)\n",
    "dict(zip(unique, counts))"
   ]
  },
  {
   "cell_type": "code",
   "execution_count": 259,
   "metadata": {},
   "outputs": [
    {
     "data": {
      "text/plain": [
       "array([[-0.43385879, -0.57339681, -0.51010369, ..., -2.05236559,\n",
       "         0.31569565,  1.43877775],\n",
       "       [-0.43385879,  1.74399296,  1.96038574, ..., -0.85005303,\n",
       "         0.70116405,  0.15355605],\n",
       "       [-0.43385879, -0.57339681, -0.51010369, ..., -0.92415267,\n",
       "        -1.26431053, -1.69431362],\n",
       "       ...,\n",
       "       [-0.43385879, -0.57339681, -0.51010369, ..., -0.04005236,\n",
       "        -0.54830889,  0.21243781],\n",
       "       [-0.43385879, -0.57339681, -0.51010369, ..., -1.55858157,\n",
       "        -1.29583094,  0.45741502],\n",
       "       [-0.43385879, -0.57339681, -0.51010369, ...,  0.89431748,\n",
       "         2.09653963,  0.7714511 ]])"
      ]
     },
     "execution_count": 259,
     "metadata": {},
     "output_type": "execute_result"
    }
   ],
   "source": [
    "from sklearn import preprocessing\n",
    "\n",
    "X_scaled = preprocessing.scale(back_up_train)\n",
    "X_scaled"
   ]
  },
  {
   "cell_type": "code",
   "execution_count": 260,
   "metadata": {},
   "outputs": [
    {
     "data": {
      "text/plain": [
       "array([[-0.45414755,  1.85582298, -0.48817361, ...,  1.19279994,\n",
       "        -0.89096864, -1.39117512],\n",
       "       [-0.45414755, -0.5388445 , -0.48817361, ..., -0.87727725,\n",
       "         0.51092329,  0.07688778],\n",
       "       [-0.45414755,  1.85582298,  2.04845157, ...,  0.96022669,\n",
       "         1.66821605, -0.4230193 ],\n",
       "       ...,\n",
       "       [-0.45414755,  1.85582298, -0.48817361, ...,  0.78307949,\n",
       "        -0.29880204,  3.15952537],\n",
       "       [-0.45414755, -0.5388445 , -0.48817361, ..., -0.42743818,\n",
       "        -0.70037056,  0.14977556],\n",
       "       [ 2.20192753, -0.5388445 ,  2.04845157, ..., -0.24952058,\n",
       "        -0.37436635,  0.47445747]])"
      ]
     },
     "execution_count": 260,
     "metadata": {},
     "output_type": "execute_result"
    }
   ],
   "source": [
    "X_test_scaled = preprocessing.scale(strat_test_set)\n",
    "X_test_scaled"
   ]
  },
  {
   "cell_type": "code",
   "execution_count": 261,
   "metadata": {},
   "outputs": [
    {
     "data": {
      "text/plain": [
       "array([ 4.67831667e-19,  6.54964334e-18, -4.67831667e-18, -9.35663334e-19,\n",
       "       -1.02922967e-17,  2.69704956e-16,  5.70754634e-17,  1.16957917e-17,\n",
       "       -2.33915833e-18,  1.87132667e-18,  3.18125534e-17, -1.87132667e-18,\n",
       "       -4.11691867e-17, -6.73677600e-17,  3.49002424e-16,  1.61635841e-16,\n",
       "       -1.12279600e-17,  7.48530667e-15,  9.65838476e-16, -8.38354347e-16])"
      ]
     },
     "execution_count": 261,
     "metadata": {},
     "output_type": "execute_result"
    }
   ],
   "source": [
    "X_scaled.mean(axis=0)"
   ]
  },
  {
   "cell_type": "code",
   "execution_count": 262,
   "metadata": {},
   "outputs": [
    {
     "data": {
      "text/plain": [
       "array([1., 1., 1., 1., 1., 1., 1., 1., 1., 1., 1., 1., 1., 1., 1., 1., 1.,\n",
       "       1., 1., 1.])"
      ]
     },
     "execution_count": 262,
     "metadata": {},
     "output_type": "execute_result"
    }
   ],
   "source": [
    "X_scaled.std(axis=0)"
   ]
  },
  {
   "cell_type": "code",
   "execution_count": 263,
   "metadata": {},
   "outputs": [
    {
     "data": {
      "text/plain": [
       "array([ 4.30612039e-17, -7.75759093e-17,  2.62969184e-18, -2.49820725e-17,\n",
       "        7.62610634e-17, -1.18336133e-17,  1.57781511e-17, -6.96868338e-17,\n",
       "        1.57781511e-17,  0.00000000e+00, -1.14391595e-16, -1.31484592e-17,\n",
       "        3.41859939e-17,  3.15563021e-17, -7.88907553e-17, -1.56466665e-16,\n",
       "        5.25938368e-18,  5.54602010e-15,  1.52259158e-15, -4.23380387e-16])"
      ]
     },
     "execution_count": 263,
     "metadata": {},
     "output_type": "execute_result"
    }
   ],
   "source": [
    "X_test_scaled.mean(axis=0)"
   ]
  },
  {
   "cell_type": "code",
   "execution_count": 264,
   "metadata": {},
   "outputs": [
    {
     "data": {
      "text/plain": [
       "array([1., 1., 1., 1., 1., 1., 1., 1., 1., 1., 1., 1., 1., 1., 1., 1., 1.,\n",
       "       1., 1., 1.])"
      ]
     },
     "execution_count": 264,
     "metadata": {},
     "output_type": "execute_result"
    }
   ],
   "source": [
    "X_test_scaled.std(axis=0)"
   ]
  },
  {
   "cell_type": "code",
   "execution_count": 265,
   "metadata": {},
   "outputs": [
    {
     "data": {
      "text/plain": [
       "array([[-0.43385879, -0.57339681, -0.51010369, ..., -2.05236559,\n",
       "         0.31569565,  1.43877775],\n",
       "       [-0.43385879,  1.74399296,  1.96038574, ..., -0.85005303,\n",
       "         0.70116405,  0.15355605],\n",
       "       [-0.43385879, -0.57339681, -0.51010369, ..., -0.92415267,\n",
       "        -1.26431053, -1.69431362],\n",
       "       ...,\n",
       "       [-0.43385879, -0.57339681, -0.51010369, ..., -0.04005236,\n",
       "        -0.54830889,  0.21243781],\n",
       "       [-0.43385879, -0.57339681, -0.51010369, ..., -1.55858157,\n",
       "        -1.29583094,  0.45741502],\n",
       "       [-0.43385879, -0.57339681, -0.51010369, ...,  0.89431748,\n",
       "         2.09653963,  0.7714511 ]])"
      ]
     },
     "execution_count": 265,
     "metadata": {},
     "output_type": "execute_result"
    }
   ],
   "source": [
    "scaler_train = preprocessing.StandardScaler().fit(back_up_train)\n",
    "scaler_train.transform(back_up_train)"
   ]
  },
  {
   "cell_type": "code",
   "execution_count": 266,
   "metadata": {},
   "outputs": [
    {
     "data": {
      "text/plain": [
       "array([[-0.45414755,  1.85582298, -0.48817361, ...,  1.19279994,\n",
       "        -0.89096864, -1.39117512],\n",
       "       [-0.45414755, -0.5388445 , -0.48817361, ..., -0.87727725,\n",
       "         0.51092329,  0.07688778],\n",
       "       [-0.45414755,  1.85582298,  2.04845157, ...,  0.96022669,\n",
       "         1.66821605, -0.4230193 ],\n",
       "       ...,\n",
       "       [-0.45414755,  1.85582298, -0.48817361, ...,  0.78307949,\n",
       "        -0.29880204,  3.15952537],\n",
       "       [-0.45414755, -0.5388445 , -0.48817361, ..., -0.42743818,\n",
       "        -0.70037056,  0.14977556],\n",
       "       [ 2.20192753, -0.5388445 ,  2.04845157, ..., -0.24952058,\n",
       "        -0.37436635,  0.47445747]])"
      ]
     },
     "execution_count": 266,
     "metadata": {},
     "output_type": "execute_result"
    }
   ],
   "source": [
    "scaler_test = preprocessing.StandardScaler().fit(strat_test_set)\n",
    "scaler_test.transform(strat_test_set)"
   ]
  },
  {
   "cell_type": "markdown",
   "metadata": {},
   "source": [
    "### Apply SGDClassifier"
   ]
  },
  {
   "cell_type": "code",
   "execution_count": 267,
   "metadata": {},
   "outputs": [],
   "source": [
    "from sklearn import model_selection, tree, preprocessing, metrics, linear_model\n",
    "from sklearn.svm import LinearSVC\n",
    "from sklearn.neighbors import KNeighborsClassifier\n",
    "from sklearn.linear_model import LinearRegression, LogisticRegression, SGDClassifier\n",
    "from sklearn.tree import DecisionTreeClassifier\n",
    "\n",
    "\n",
    "def the_one_that_does_it_all(algo, X_train, y_train, cv): \n",
    "    model = algo.fit(X_train, y_train)\n",
    "    accuracy_model = round(model.score(X_train, y_train) * 100, 2)\n",
    "    \n",
    "    # Cross Validation \n",
    "    train_pred = ms.cross_val_predict(algo, X_train, y_train, cv=cv)\n",
    "    \n",
    "    # Cross-validation accuracy metric\n",
    "    accuracy_cv = round(metrics.accuracy_score(y_train, train_pred) * 100, 2)\n",
    "    \n",
    "    return train_pred, accuracy_model, accuracy_cv\n"
   ]
  },
  {
   "cell_type": "code",
   "execution_count": 268,
   "metadata": {},
   "outputs": [],
   "source": [
    "import warnings\n",
    "warnings.filterwarnings('ignore')"
   ]
  },
  {
   "cell_type": "code",
   "execution_count": 269,
   "metadata": {},
   "outputs": [
    {
     "name": "stdout",
     "output_type": "stream",
     "text": [
      "Accuracy: 78.94\n",
      "Accuracy CV 10-Fold: 78.76\n"
     ]
    }
   ],
   "source": [
    "train_pred_sgdc, acc_sgdc, acc_cv_sgdc = the_one_that_does_it_all(SGDClassifier(), X_scaled, y_train, 10)\n",
    "\n",
    "print(\"Accuracy: %s\" % acc_sgdc)\n",
    "print(\"Accuracy CV 10-Fold: %s\" % acc_cv_sgdc)"
   ]
  },
  {
   "cell_type": "markdown",
   "metadata": {},
   "source": [
    "That was without any hyperparameters tuning\n",
    "\n",
    "Let's try to tune some"
   ]
  },
  {
   "cell_type": "code",
   "execution_count": 271,
   "metadata": {},
   "outputs": [
    {
     "name": "stdout",
     "output_type": "stream",
     "text": [
      "Accuracy: 81.06\n",
      "Accuracy CV 10-Fold: 80.21\n"
     ]
    }
   ],
   "source": [
    "sgd_clf = SGDClassifier(max_iter=1000, tol=1e-3)\n",
    "\n",
    "train_pred_sgdc2, acc_sgdc2, acc_cv_sgdc2 = the_one_that_does_it_all(sgd_clf, X_scaled, y_train, 10)\n",
    "\n",
    "print(\"Accuracy: %s\" % acc_sgdc2)\n",
    "print(\"Accuracy CV 10-Fold: %s\" % acc_cv_sgdc2)"
   ]
  },
  {
   "cell_type": "markdown",
   "metadata": {},
   "source": [
    "Alright we see improvement already"
   ]
  },
  {
   "cell_type": "markdown",
   "metadata": {},
   "source": [
    "### Tuning Hyperparameters"
   ]
  },
  {
   "cell_type": "code",
   "execution_count": 272,
   "metadata": {},
   "outputs": [
    {
     "data": {
      "text/plain": [
       "GridSearchCV(cv=10, error_score='raise-deprecating',\n",
       "       estimator=SGDClassifier(alpha=0.0001, average=False, class_weight=None,\n",
       "       early_stopping=False, epsilon=0.1, eta0=0.0, fit_intercept=True,\n",
       "       l1_ratio=0.15, learning_rate='optimal', loss='hinge', max_iter=1000,\n",
       "       n_iter=None, n_iter_no_change=5, n_jobs=None, penalty='l2',\n",
       "       power_t=0.5, random_state=None, shuffle=True, tol=0.001,\n",
       "       validation_fraction=0.1, verbose=0, warm_start=False),\n",
       "       fit_params=None, iid='warn', n_jobs=None,\n",
       "       param_grid={'penalty': ['l2', 'l1', 'elasticnet'], 'loss': ['hinge', 'log', 'modified_huber', 'squared_hinge', 'perceptron']},\n",
       "       pre_dispatch='2*n_jobs', refit=True, return_train_score=True,\n",
       "       scoring='accuracy', verbose=0)"
      ]
     },
     "execution_count": 272,
     "metadata": {},
     "output_type": "execute_result"
    }
   ],
   "source": [
    "from sklearn.model_selection import GridSearchCV\n",
    "\n",
    "param_grid = {'penalty':['l2','l1','elasticnet'], 'loss':['hinge', 'log', 'modified_huber', 'squared_hinge', 'perceptron']}\n",
    "grid_search = GridSearchCV(sgd_clf,\n",
    "                           param_grid,  \n",
    "                           scoring='accuracy',\n",
    "                           cv=10, \n",
    "                           return_train_score=True)\n",
    "\n",
    "grid_search.fit(X_scaled, y_train)\n"
   ]
  },
  {
   "cell_type": "code",
   "execution_count": 273,
   "metadata": {},
   "outputs": [
    {
     "data": {
      "text/plain": [
       "{'loss': 'log', 'penalty': 'l2'}"
      ]
     },
     "execution_count": 273,
     "metadata": {},
     "output_type": "execute_result"
    }
   ],
   "source": [
    "grid_search.best_params_"
   ]
  },
  {
   "cell_type": "code",
   "execution_count": 274,
   "metadata": {},
   "outputs": [
    {
     "data": {
      "text/plain": [
       "SGDClassifier(alpha=0.0001, average=False, class_weight=None,\n",
       "       early_stopping=False, epsilon=0.1, eta0=0.0, fit_intercept=True,\n",
       "       l1_ratio=0.15, learning_rate='optimal', loss='log', max_iter=1000,\n",
       "       n_iter=None, n_iter_no_change=5, n_jobs=None, penalty='l2',\n",
       "       power_t=0.5, random_state=None, shuffle=True, tol=0.001,\n",
       "       validation_fraction=0.1, verbose=0, warm_start=False)"
      ]
     },
     "execution_count": 274,
     "metadata": {},
     "output_type": "execute_result"
    }
   ],
   "source": [
    "grid_search.best_estimator_"
   ]
  },
  {
   "cell_type": "code",
   "execution_count": 275,
   "metadata": {},
   "outputs": [
    {
     "data": {
      "text/html": [
       "<div>\n",
       "<style scoped>\n",
       "    .dataframe tbody tr th:only-of-type {\n",
       "        vertical-align: middle;\n",
       "    }\n",
       "\n",
       "    .dataframe tbody tr th {\n",
       "        vertical-align: top;\n",
       "    }\n",
       "\n",
       "    .dataframe thead th {\n",
       "        text-align: right;\n",
       "    }\n",
       "</style>\n",
       "<table border=\"1\" class=\"dataframe\">\n",
       "  <thead>\n",
       "    <tr style=\"text-align: right;\">\n",
       "      <th></th>\n",
       "      <th>mean_fit_time</th>\n",
       "      <th>std_fit_time</th>\n",
       "      <th>mean_score_time</th>\n",
       "      <th>std_score_time</th>\n",
       "      <th>param_loss</th>\n",
       "      <th>param_penalty</th>\n",
       "      <th>params</th>\n",
       "      <th>split0_test_score</th>\n",
       "      <th>split1_test_score</th>\n",
       "      <th>split2_test_score</th>\n",
       "      <th>...</th>\n",
       "      <th>split2_train_score</th>\n",
       "      <th>split3_train_score</th>\n",
       "      <th>split4_train_score</th>\n",
       "      <th>split5_train_score</th>\n",
       "      <th>split6_train_score</th>\n",
       "      <th>split7_train_score</th>\n",
       "      <th>split8_train_score</th>\n",
       "      <th>split9_train_score</th>\n",
       "      <th>mean_train_score</th>\n",
       "      <th>std_train_score</th>\n",
       "    </tr>\n",
       "  </thead>\n",
       "  <tbody>\n",
       "    <tr>\n",
       "      <th>0</th>\n",
       "      <td>0.032547</td>\n",
       "      <td>0.007208</td>\n",
       "      <td>0.000000</td>\n",
       "      <td>0.000000</td>\n",
       "      <td>hinge</td>\n",
       "      <td>l2</td>\n",
       "      <td>{'loss': 'hinge', 'penalty': 'l2'}</td>\n",
       "      <td>0.791064</td>\n",
       "      <td>0.819974</td>\n",
       "      <td>0.795784</td>\n",
       "      <td>...</td>\n",
       "      <td>0.801463</td>\n",
       "      <td>0.811266</td>\n",
       "      <td>0.812143</td>\n",
       "      <td>0.811997</td>\n",
       "      <td>0.814045</td>\n",
       "      <td>0.812582</td>\n",
       "      <td>0.786101</td>\n",
       "      <td>0.808193</td>\n",
       "      <td>0.807363</td>\n",
       "      <td>0.007964</td>\n",
       "    </tr>\n",
       "    <tr>\n",
       "      <th>1</th>\n",
       "      <td>0.054387</td>\n",
       "      <td>0.005339</td>\n",
       "      <td>0.000000</td>\n",
       "      <td>0.000000</td>\n",
       "      <td>hinge</td>\n",
       "      <td>l1</td>\n",
       "      <td>{'loss': 'hinge', 'penalty': 'l1'}</td>\n",
       "      <td>0.821288</td>\n",
       "      <td>0.808147</td>\n",
       "      <td>0.814229</td>\n",
       "      <td>...</td>\n",
       "      <td>0.816533</td>\n",
       "      <td>0.802195</td>\n",
       "      <td>0.803658</td>\n",
       "      <td>0.804389</td>\n",
       "      <td>0.816533</td>\n",
       "      <td>0.809949</td>\n",
       "      <td>0.812729</td>\n",
       "      <td>0.810973</td>\n",
       "      <td>0.808738</td>\n",
       "      <td>0.005078</td>\n",
       "    </tr>\n",
       "    <tr>\n",
       "      <th>2</th>\n",
       "      <td>0.055397</td>\n",
       "      <td>0.010441</td>\n",
       "      <td>0.000208</td>\n",
       "      <td>0.000625</td>\n",
       "      <td>hinge</td>\n",
       "      <td>elasticnet</td>\n",
       "      <td>{'loss': 'hinge', 'penalty': 'elasticnet'}</td>\n",
       "      <td>0.787122</td>\n",
       "      <td>0.822602</td>\n",
       "      <td>0.774704</td>\n",
       "      <td>...</td>\n",
       "      <td>0.774543</td>\n",
       "      <td>0.812875</td>\n",
       "      <td>0.804097</td>\n",
       "      <td>0.802341</td>\n",
       "      <td>0.811119</td>\n",
       "      <td>0.795172</td>\n",
       "      <td>0.809217</td>\n",
       "      <td>0.807608</td>\n",
       "      <td>0.801495</td>\n",
       "      <td>0.010946</td>\n",
       "    </tr>\n",
       "    <tr>\n",
       "      <th>3</th>\n",
       "      <td>0.047352</td>\n",
       "      <td>0.007076</td>\n",
       "      <td>0.000000</td>\n",
       "      <td>0.000000</td>\n",
       "      <td>log</td>\n",
       "      <td>l2</td>\n",
       "      <td>{'loss': 'log', 'penalty': 'l2'}</td>\n",
       "      <td>0.821288</td>\n",
       "      <td>0.833114</td>\n",
       "      <td>0.803689</td>\n",
       "      <td>...</td>\n",
       "      <td>0.803950</td>\n",
       "      <td>0.815655</td>\n",
       "      <td>0.811851</td>\n",
       "      <td>0.815801</td>\n",
       "      <td>0.804682</td>\n",
       "      <td>0.812582</td>\n",
       "      <td>0.807608</td>\n",
       "      <td>0.818873</td>\n",
       "      <td>0.810406</td>\n",
       "      <td>0.004991</td>\n",
       "    </tr>\n",
       "    <tr>\n",
       "      <th>4</th>\n",
       "      <td>0.076346</td>\n",
       "      <td>0.024215</td>\n",
       "      <td>0.001198</td>\n",
       "      <td>0.001831</td>\n",
       "      <td>log</td>\n",
       "      <td>l1</td>\n",
       "      <td>{'loss': 'log', 'penalty': 'l1'}</td>\n",
       "      <td>0.825230</td>\n",
       "      <td>0.831800</td>\n",
       "      <td>0.807642</td>\n",
       "      <td>...</td>\n",
       "      <td>0.804828</td>\n",
       "      <td>0.815508</td>\n",
       "      <td>0.803658</td>\n",
       "      <td>0.812143</td>\n",
       "      <td>0.816971</td>\n",
       "      <td>0.803804</td>\n",
       "      <td>0.811558</td>\n",
       "      <td>0.808486</td>\n",
       "      <td>0.809265</td>\n",
       "      <td>0.004581</td>\n",
       "    </tr>\n",
       "    <tr>\n",
       "      <th>5</th>\n",
       "      <td>0.070650</td>\n",
       "      <td>0.010786</td>\n",
       "      <td>0.001345</td>\n",
       "      <td>0.001778</td>\n",
       "      <td>log</td>\n",
       "      <td>elasticnet</td>\n",
       "      <td>{'loss': 'log', 'penalty': 'elasticnet'}</td>\n",
       "      <td>0.818660</td>\n",
       "      <td>0.833114</td>\n",
       "      <td>0.830040</td>\n",
       "      <td>...</td>\n",
       "      <td>0.816679</td>\n",
       "      <td>0.810973</td>\n",
       "      <td>0.813753</td>\n",
       "      <td>0.806291</td>\n",
       "      <td>0.816094</td>\n",
       "      <td>0.802780</td>\n",
       "      <td>0.816240</td>\n",
       "      <td>0.809217</td>\n",
       "      <td>0.812162</td>\n",
       "      <td>0.004724</td>\n",
       "    </tr>\n",
       "    <tr>\n",
       "      <th>6</th>\n",
       "      <td>0.062217</td>\n",
       "      <td>0.019507</td>\n",
       "      <td>0.000395</td>\n",
       "      <td>0.001184</td>\n",
       "      <td>modified_huber</td>\n",
       "      <td>l2</td>\n",
       "      <td>{'loss': 'modified_huber', 'penalty': 'l2'}</td>\n",
       "      <td>0.746386</td>\n",
       "      <td>0.810775</td>\n",
       "      <td>0.811594</td>\n",
       "      <td>...</td>\n",
       "      <td>0.794879</td>\n",
       "      <td>0.774835</td>\n",
       "      <td>0.800146</td>\n",
       "      <td>0.778932</td>\n",
       "      <td>0.791075</td>\n",
       "      <td>0.762985</td>\n",
       "      <td>0.767228</td>\n",
       "      <td>0.810534</td>\n",
       "      <td>0.782591</td>\n",
       "      <td>0.017602</td>\n",
       "    </tr>\n",
       "    <tr>\n",
       "      <th>7</th>\n",
       "      <td>0.212546</td>\n",
       "      <td>0.106582</td>\n",
       "      <td>0.001259</td>\n",
       "      <td>0.001631</td>\n",
       "      <td>modified_huber</td>\n",
       "      <td>l1</td>\n",
       "      <td>{'loss': 'modified_huber', 'penalty': 'l1'}</td>\n",
       "      <td>0.796321</td>\n",
       "      <td>0.802891</td>\n",
       "      <td>0.770751</td>\n",
       "      <td>...</td>\n",
       "      <td>0.768105</td>\n",
       "      <td>0.788442</td>\n",
       "      <td>0.811997</td>\n",
       "      <td>0.805706</td>\n",
       "      <td>0.798098</td>\n",
       "      <td>0.768837</td>\n",
       "      <td>0.784492</td>\n",
       "      <td>0.797805</td>\n",
       "      <td>0.787551</td>\n",
       "      <td>0.014907</td>\n",
       "    </tr>\n",
       "    <tr>\n",
       "      <th>8</th>\n",
       "      <td>0.092371</td>\n",
       "      <td>0.007840</td>\n",
       "      <td>0.000252</td>\n",
       "      <td>0.000756</td>\n",
       "      <td>modified_huber</td>\n",
       "      <td>elasticnet</td>\n",
       "      <td>{'loss': 'modified_huber', 'penalty': 'elastic...</td>\n",
       "      <td>0.795007</td>\n",
       "      <td>0.851511</td>\n",
       "      <td>0.807642</td>\n",
       "      <td>...</td>\n",
       "      <td>0.801317</td>\n",
       "      <td>0.798683</td>\n",
       "      <td>0.785808</td>\n",
       "      <td>0.794440</td>\n",
       "      <td>0.799561</td>\n",
       "      <td>0.786979</td>\n",
       "      <td>0.801317</td>\n",
       "      <td>0.785808</td>\n",
       "      <td>0.796346</td>\n",
       "      <td>0.007216</td>\n",
       "    </tr>\n",
       "    <tr>\n",
       "      <th>9</th>\n",
       "      <td>0.118725</td>\n",
       "      <td>0.082550</td>\n",
       "      <td>0.001596</td>\n",
       "      <td>0.001955</td>\n",
       "      <td>squared_hinge</td>\n",
       "      <td>l2</td>\n",
       "      <td>{'loss': 'squared_hinge', 'penalty': 'l2'}</td>\n",
       "      <td>0.798949</td>\n",
       "      <td>0.773982</td>\n",
       "      <td>0.737813</td>\n",
       "      <td>...</td>\n",
       "      <td>0.743526</td>\n",
       "      <td>0.765033</td>\n",
       "      <td>0.765764</td>\n",
       "      <td>0.741478</td>\n",
       "      <td>0.772348</td>\n",
       "      <td>0.769568</td>\n",
       "      <td>0.799561</td>\n",
       "      <td>0.760059</td>\n",
       "      <td>0.761902</td>\n",
       "      <td>0.019209</td>\n",
       "    </tr>\n",
       "    <tr>\n",
       "      <th>10</th>\n",
       "      <td>0.766236</td>\n",
       "      <td>0.349969</td>\n",
       "      <td>0.000000</td>\n",
       "      <td>0.000000</td>\n",
       "      <td>squared_hinge</td>\n",
       "      <td>l1</td>\n",
       "      <td>{'loss': 'squared_hinge', 'penalty': 'l1'}</td>\n",
       "      <td>0.770039</td>\n",
       "      <td>0.793693</td>\n",
       "      <td>0.793149</td>\n",
       "      <td>...</td>\n",
       "      <td>0.773811</td>\n",
       "      <td>0.776298</td>\n",
       "      <td>0.776445</td>\n",
       "      <td>0.764155</td>\n",
       "      <td>0.756547</td>\n",
       "      <td>0.703877</td>\n",
       "      <td>0.752597</td>\n",
       "      <td>0.778054</td>\n",
       "      <td>0.758098</td>\n",
       "      <td>0.021774</td>\n",
       "    </tr>\n",
       "    <tr>\n",
       "      <th>11</th>\n",
       "      <td>0.190582</td>\n",
       "      <td>0.071595</td>\n",
       "      <td>0.001202</td>\n",
       "      <td>0.001836</td>\n",
       "      <td>squared_hinge</td>\n",
       "      <td>elasticnet</td>\n",
       "      <td>{'loss': 'squared_hinge', 'penalty': 'elasticn...</td>\n",
       "      <td>0.767411</td>\n",
       "      <td>0.796321</td>\n",
       "      <td>0.762846</td>\n",
       "      <td>...</td>\n",
       "      <td>0.757571</td>\n",
       "      <td>0.758742</td>\n",
       "      <td>0.762985</td>\n",
       "      <td>0.764009</td>\n",
       "      <td>0.774835</td>\n",
       "      <td>0.749086</td>\n",
       "      <td>0.765764</td>\n",
       "      <td>0.750549</td>\n",
       "      <td>0.758127</td>\n",
       "      <td>0.008932</td>\n",
       "    </tr>\n",
       "    <tr>\n",
       "      <th>12</th>\n",
       "      <td>0.034057</td>\n",
       "      <td>0.004143</td>\n",
       "      <td>0.000216</td>\n",
       "      <td>0.000649</td>\n",
       "      <td>perceptron</td>\n",
       "      <td>l2</td>\n",
       "      <td>{'loss': 'perceptron', 'penalty': 'l2'}</td>\n",
       "      <td>0.727989</td>\n",
       "      <td>0.802891</td>\n",
       "      <td>0.808959</td>\n",
       "      <td>...</td>\n",
       "      <td>0.793855</td>\n",
       "      <td>0.781273</td>\n",
       "      <td>0.794001</td>\n",
       "      <td>0.779078</td>\n",
       "      <td>0.798976</td>\n",
       "      <td>0.751280</td>\n",
       "      <td>0.777030</td>\n",
       "      <td>0.746452</td>\n",
       "      <td>0.774690</td>\n",
       "      <td>0.019551</td>\n",
       "    </tr>\n",
       "    <tr>\n",
       "      <th>13</th>\n",
       "      <td>0.084343</td>\n",
       "      <td>0.023706</td>\n",
       "      <td>0.000409</td>\n",
       "      <td>0.000819</td>\n",
       "      <td>perceptron</td>\n",
       "      <td>l1</td>\n",
       "      <td>{'loss': 'perceptron', 'penalty': 'l1'}</td>\n",
       "      <td>0.789750</td>\n",
       "      <td>0.779238</td>\n",
       "      <td>0.789196</td>\n",
       "      <td>...</td>\n",
       "      <td>0.781273</td>\n",
       "      <td>0.757425</td>\n",
       "      <td>0.783321</td>\n",
       "      <td>0.776152</td>\n",
       "      <td>0.784784</td>\n",
       "      <td>0.767813</td>\n",
       "      <td>0.793709</td>\n",
       "      <td>0.801902</td>\n",
       "      <td>0.780455</td>\n",
       "      <td>0.012359</td>\n",
       "    </tr>\n",
       "    <tr>\n",
       "      <th>14</th>\n",
       "      <td>0.061066</td>\n",
       "      <td>0.008378</td>\n",
       "      <td>0.000801</td>\n",
       "      <td>0.001602</td>\n",
       "      <td>perceptron</td>\n",
       "      <td>elasticnet</td>\n",
       "      <td>{'loss': 'perceptron', 'penalty': 'elasticnet'}</td>\n",
       "      <td>0.788436</td>\n",
       "      <td>0.835742</td>\n",
       "      <td>0.794466</td>\n",
       "      <td>...</td>\n",
       "      <td>0.783175</td>\n",
       "      <td>0.754206</td>\n",
       "      <td>0.794587</td>\n",
       "      <td>0.789466</td>\n",
       "      <td>0.790490</td>\n",
       "      <td>0.807608</td>\n",
       "      <td>0.774982</td>\n",
       "      <td>0.783760</td>\n",
       "      <td>0.786367</td>\n",
       "      <td>0.013441</td>\n",
       "    </tr>\n",
       "  </tbody>\n",
       "</table>\n",
       "<p>15 rows × 32 columns</p>\n",
       "</div>"
      ],
      "text/plain": [
       "    mean_fit_time  std_fit_time  mean_score_time  std_score_time  \\\n",
       "0        0.032547      0.007208         0.000000        0.000000   \n",
       "1        0.054387      0.005339         0.000000        0.000000   \n",
       "2        0.055397      0.010441         0.000208        0.000625   \n",
       "3        0.047352      0.007076         0.000000        0.000000   \n",
       "4        0.076346      0.024215         0.001198        0.001831   \n",
       "5        0.070650      0.010786         0.001345        0.001778   \n",
       "6        0.062217      0.019507         0.000395        0.001184   \n",
       "7        0.212546      0.106582         0.001259        0.001631   \n",
       "8        0.092371      0.007840         0.000252        0.000756   \n",
       "9        0.118725      0.082550         0.001596        0.001955   \n",
       "10       0.766236      0.349969         0.000000        0.000000   \n",
       "11       0.190582      0.071595         0.001202        0.001836   \n",
       "12       0.034057      0.004143         0.000216        0.000649   \n",
       "13       0.084343      0.023706         0.000409        0.000819   \n",
       "14       0.061066      0.008378         0.000801        0.001602   \n",
       "\n",
       "        param_loss param_penalty  \\\n",
       "0            hinge            l2   \n",
       "1            hinge            l1   \n",
       "2            hinge    elasticnet   \n",
       "3              log            l2   \n",
       "4              log            l1   \n",
       "5              log    elasticnet   \n",
       "6   modified_huber            l2   \n",
       "7   modified_huber            l1   \n",
       "8   modified_huber    elasticnet   \n",
       "9    squared_hinge            l2   \n",
       "10   squared_hinge            l1   \n",
       "11   squared_hinge    elasticnet   \n",
       "12      perceptron            l2   \n",
       "13      perceptron            l1   \n",
       "14      perceptron    elasticnet   \n",
       "\n",
       "                                               params  split0_test_score  \\\n",
       "0                  {'loss': 'hinge', 'penalty': 'l2'}           0.791064   \n",
       "1                  {'loss': 'hinge', 'penalty': 'l1'}           0.821288   \n",
       "2          {'loss': 'hinge', 'penalty': 'elasticnet'}           0.787122   \n",
       "3                    {'loss': 'log', 'penalty': 'l2'}           0.821288   \n",
       "4                    {'loss': 'log', 'penalty': 'l1'}           0.825230   \n",
       "5            {'loss': 'log', 'penalty': 'elasticnet'}           0.818660   \n",
       "6         {'loss': 'modified_huber', 'penalty': 'l2'}           0.746386   \n",
       "7         {'loss': 'modified_huber', 'penalty': 'l1'}           0.796321   \n",
       "8   {'loss': 'modified_huber', 'penalty': 'elastic...           0.795007   \n",
       "9          {'loss': 'squared_hinge', 'penalty': 'l2'}           0.798949   \n",
       "10         {'loss': 'squared_hinge', 'penalty': 'l1'}           0.770039   \n",
       "11  {'loss': 'squared_hinge', 'penalty': 'elasticn...           0.767411   \n",
       "12            {'loss': 'perceptron', 'penalty': 'l2'}           0.727989   \n",
       "13            {'loss': 'perceptron', 'penalty': 'l1'}           0.789750   \n",
       "14    {'loss': 'perceptron', 'penalty': 'elasticnet'}           0.788436   \n",
       "\n",
       "    split1_test_score  split2_test_score       ...         split2_train_score  \\\n",
       "0            0.819974           0.795784       ...                   0.801463   \n",
       "1            0.808147           0.814229       ...                   0.816533   \n",
       "2            0.822602           0.774704       ...                   0.774543   \n",
       "3            0.833114           0.803689       ...                   0.803950   \n",
       "4            0.831800           0.807642       ...                   0.804828   \n",
       "5            0.833114           0.830040       ...                   0.816679   \n",
       "6            0.810775           0.811594       ...                   0.794879   \n",
       "7            0.802891           0.770751       ...                   0.768105   \n",
       "8            0.851511           0.807642       ...                   0.801317   \n",
       "9            0.773982           0.737813       ...                   0.743526   \n",
       "10           0.793693           0.793149       ...                   0.773811   \n",
       "11           0.796321           0.762846       ...                   0.757571   \n",
       "12           0.802891           0.808959       ...                   0.793855   \n",
       "13           0.779238           0.789196       ...                   0.781273   \n",
       "14           0.835742           0.794466       ...                   0.783175   \n",
       "\n",
       "    split3_train_score  split4_train_score  split5_train_score  \\\n",
       "0             0.811266            0.812143            0.811997   \n",
       "1             0.802195            0.803658            0.804389   \n",
       "2             0.812875            0.804097            0.802341   \n",
       "3             0.815655            0.811851            0.815801   \n",
       "4             0.815508            0.803658            0.812143   \n",
       "5             0.810973            0.813753            0.806291   \n",
       "6             0.774835            0.800146            0.778932   \n",
       "7             0.788442            0.811997            0.805706   \n",
       "8             0.798683            0.785808            0.794440   \n",
       "9             0.765033            0.765764            0.741478   \n",
       "10            0.776298            0.776445            0.764155   \n",
       "11            0.758742            0.762985            0.764009   \n",
       "12            0.781273            0.794001            0.779078   \n",
       "13            0.757425            0.783321            0.776152   \n",
       "14            0.754206            0.794587            0.789466   \n",
       "\n",
       "    split6_train_score  split7_train_score  split8_train_score  \\\n",
       "0             0.814045            0.812582            0.786101   \n",
       "1             0.816533            0.809949            0.812729   \n",
       "2             0.811119            0.795172            0.809217   \n",
       "3             0.804682            0.812582            0.807608   \n",
       "4             0.816971            0.803804            0.811558   \n",
       "5             0.816094            0.802780            0.816240   \n",
       "6             0.791075            0.762985            0.767228   \n",
       "7             0.798098            0.768837            0.784492   \n",
       "8             0.799561            0.786979            0.801317   \n",
       "9             0.772348            0.769568            0.799561   \n",
       "10            0.756547            0.703877            0.752597   \n",
       "11            0.774835            0.749086            0.765764   \n",
       "12            0.798976            0.751280            0.777030   \n",
       "13            0.784784            0.767813            0.793709   \n",
       "14            0.790490            0.807608            0.774982   \n",
       "\n",
       "    split9_train_score  mean_train_score  std_train_score  \n",
       "0             0.808193          0.807363         0.007964  \n",
       "1             0.810973          0.808738         0.005078  \n",
       "2             0.807608          0.801495         0.010946  \n",
       "3             0.818873          0.810406         0.004991  \n",
       "4             0.808486          0.809265         0.004581  \n",
       "5             0.809217          0.812162         0.004724  \n",
       "6             0.810534          0.782591         0.017602  \n",
       "7             0.797805          0.787551         0.014907  \n",
       "8             0.785808          0.796346         0.007216  \n",
       "9             0.760059          0.761902         0.019209  \n",
       "10            0.778054          0.758098         0.021774  \n",
       "11            0.750549          0.758127         0.008932  \n",
       "12            0.746452          0.774690         0.019551  \n",
       "13            0.801902          0.780455         0.012359  \n",
       "14            0.783760          0.786367         0.013441  \n",
       "\n",
       "[15 rows x 32 columns]"
      ]
     },
     "execution_count": 275,
     "metadata": {},
     "output_type": "execute_result"
    }
   ],
   "source": [
    "pd.DataFrame(grid_search.cv_results_)"
   ]
  },
  {
   "cell_type": "code",
   "execution_count": 276,
   "metadata": {},
   "outputs": [
    {
     "name": "stdout",
     "output_type": "stream",
     "text": [
      "Accuracy: 80.5\n",
      "Accuracy CV 10-Fold: 80.27\n"
     ]
    }
   ],
   "source": [
    "sgd_clf_searched = SGDClassifier(max_iter=1000, tol=1e-3, loss = 'log', penalty = 'l2')\n",
    "\n",
    "train_pred_sgdcs, acc_sgdcs, acc_cv_sgdcs = the_one_that_does_it_all(sgd_clf_searched, X_scaled, y_train, 10)\n",
    "\n",
    "print(\"Accuracy: %s\" % acc_sgdcs)\n",
    "print(\"Accuracy CV 10-Fold: %s\" % acc_cv_sgdcs)"
   ]
  },
  {
   "cell_type": "markdown",
   "metadata": {},
   "source": [
    "### Evaluation"
   ]
  },
  {
   "cell_type": "markdown",
   "metadata": {},
   "source": [
    "Using your best system, follow the notebook for Chapter 3 and find the precision, recall, and F1 score for your best model on the test set."
   ]
  },
  {
   "cell_type": "code",
   "execution_count": 279,
   "metadata": {},
   "outputs": [
    {
     "data": {
      "text/plain": [
       "(1351,)"
      ]
     },
     "execution_count": 279,
     "metadata": {},
     "output_type": "execute_result"
    }
   ],
   "source": [
    "model = sgd_clf_searched.fit(X_scaled, y_train)\n",
    "\n",
    "y_test_pred = model.predict(X_test_scaled)\n",
    "\n",
    "y_test_pred.shape"
   ]
  },
  {
   "cell_type": "code",
   "execution_count": 282,
   "metadata": {},
   "outputs": [
    {
     "name": "stdout",
     "output_type": "stream",
     "text": [
      "Precision Score: 0.6204379562043796\n",
      "Recall Score: 0.7434402332361516\n"
     ]
    }
   ],
   "source": [
    "from sklearn.metrics import precision_score, recall_score\n",
    "\n",
    "precisionScore = precision_score(y_test, y_test_pred)\n",
    "recallScore = recall_score(y_test, y_test_pred)\n",
    "\n",
    "print(\"Precision Score: %s\" % precisionScore)\n",
    "print(\"Recall Score: %s\" % recallScore)"
   ]
  },
  {
   "cell_type": "code",
   "execution_count": 283,
   "metadata": {},
   "outputs": [
    {
     "name": "stdout",
     "output_type": "stream",
     "text": [
      "f1 Score: 0.6763925729442971\n"
     ]
    }
   ],
   "source": [
    "from sklearn.metrics import f1_score\n",
    "\n",
    "f1Score = f1_score(y_test, y_test_pred)\n",
    "\n",
    "print(\"f1 Score: %s\" % f1Score)"
   ]
  },
  {
   "cell_type": "code",
   "execution_count": 284,
   "metadata": {},
   "outputs": [],
   "source": [
    "from sklearn.metrics import roc_curve\n",
    "\n",
    "fpr, tpr, thresholds = roc_curve(y_test, y_test_pred)"
   ]
  },
  {
   "cell_type": "code",
   "execution_count": 286,
   "metadata": {},
   "outputs": [
    {
     "data": {
      "image/png": "[encoded data removed]",
      "text/plain": [
       "<Figure size 576x432 with 1 Axes>"
      ]
     },
     "metadata": {
      "needs_background": "light"
     },
     "output_type": "display_data"
    }
   ],
   "source": [
    "def plot_roc_curve(fpr, tpr, label=None):\n",
    "    plt.plot(fpr, tpr, linewidth=2, label=label)\n",
    "    plt.plot([0, 1], [0, 1], 'k--') # dashed diagonal\n",
    "    plt.axis([0, 1, 0, 1])                                    # Not shown in the book\n",
    "    plt.xlabel('False Positive Rate (Fall-Out)', fontsize=16) # Not shown\n",
    "    plt.ylabel('True Positive Rate (Recall)', fontsize=16)    # Not shown\n",
    "    plt.grid(True)                                            # Not shown\n",
    "\n",
    "plt.figure(figsize=(8, 6))                         # Not shown\n",
    "plot_roc_curve(fpr, tpr)\n",
    "plt.plot([4.837e-3, 4.837e-3], [0., 0.4368], \"r:\") # Not shown\n",
    "plt.plot([0.0, 4.837e-3], [0.4368, 0.4368], \"r:\")  # Not shown\n",
    "plt.plot([4.837e-3], [0.4368], \"ro\")               # Not shown\n",
    "#save_fig(\"roc_curve_plot\")                         # Not shown\n",
    "plt.show()"
   ]
  },
  {
   "cell_type": "code",
   "execution_count": 287,
   "metadata": {},
   "outputs": [
    {
     "data": {
      "text/plain": [
       "0.7943391642371234"
      ]
     },
     "execution_count": 287,
     "metadata": {},
     "output_type": "execute_result"
    }
   ],
   "source": [
    "from sklearn.metrics import roc_auc_score\n",
    "\n",
    "roc_auc_score(y_test, y_test_pred)"
   ]
  },
  {
   "cell_type": "markdown",
   "metadata": {},
   "source": [
    "End of lab 2"
   ]
  }
 ],
 "metadata": {
  "kernelspec": {
   "display_name": "Python 3",
   "language": "python",
   "name": "python3"
  },
  "language_info": {
   "codemirror_mode": {
    "name": "ipython",
    "version": 3
   },
   "file_extension": ".py",
   "mimetype": "text/x-python",
   "name": "python",
   "nbconvert_exporter": "python",
   "pygments_lexer": "ipython3",
   "version": "3.7.1"
  }
 },
 "nbformat": 4,
 "nbformat_minor": 1
}
